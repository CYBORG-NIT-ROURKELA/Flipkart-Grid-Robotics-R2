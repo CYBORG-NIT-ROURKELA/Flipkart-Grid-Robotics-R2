{
 "cells": [
  {
   "cell_type": "code",
   "execution_count": 54,
   "metadata": {},
   "outputs": [
    {
     "name": "stdout",
     "output_type": "stream",
     "text": [
      "complete\n",
      "[45]\n",
      "[303]\n",
      "[ 45 311]\n",
      "[303  42]\n",
      "-45.543586911106786\n"
     ]
    }
   ],
   "source": [
    "import cv2\n",
    "import numpy as np\n",
    "from scipy import ndimage\n",
    "import math\n",
    "\n",
    "arr_x = []\n",
    "arr_y = []\n",
    "flag = 0\n",
    "flag1 = 0\n",
    "\n",
    "def click_event(event, x, y, flags, params):\n",
    "    global flag, flag1\n",
    "    if event == cv2.EVENT_LBUTTONDOWN:\n",
    "        if (flag ==0 or flag == 1):\n",
    "#             print(x, ' ', y)\n",
    "#             font = cv2.FONT_HERSHEY_SIMPLEX\n",
    "#             cv2.putText(img, str(x) + ',' +\n",
    "#                         str(y), (x,y), font,\n",
    "#                         1, (255, 0, 0), 2)\n",
    "            cv2.imshow('image', img)\n",
    "            arr_x.append(x)\n",
    "            arr_y.append(y)\n",
    "\n",
    "            ax = np.array(arr_x)\n",
    "            ay = np.array(arr_y)\n",
    "            print(ax)\n",
    "            print(ay)\n",
    "            flag +=1\n",
    "            \n",
    "        if flag == 2:\n",
    "            b = ay[1]-ay[0]\n",
    "            h = ax[1]-ax[0]\n",
    "            theta = math.degrees(math.atan(h/b))\n",
    "            print(theta)\n",
    "            rotated = ndimage.rotate(img, -theta)\n",
    "            final = cv2.resize(rotated, (600, 600))\n",
    "            cv2.imshow(\"rotated\", final)\n",
    "            crop = final[162:436, 153: 445]\n",
    "            cv2.imshow(\"cropped\", crop)\n",
    "            \n",
    "\n",
    "\n",
    "img = cv2.imread(\"/home/ojasvi/Desktop/anaconda_task/Flipkart_round2/ar.jpeg\")\n",
    "img = cv2.resize(img, (600, 600))\n",
    "cv2.imshow('image', img)\n",
    "cv2.setMouseCallback('image', click_event)\n",
    "print(\"complete\")\n",
    "\n",
    "\n",
    "cv2.waitKey(0)\n",
    "cv2.destroyAllWindows()"
   ]
  },
  {
   "cell_type": "code",
   "execution_count": 53,
   "metadata": {},
   "outputs": [],
   "source": [
    "# import cv2\n",
    "# import numpy as np\n",
    "# from scipy import ndimage\n",
    "# import math"
   ]
  },
  {
   "cell_type": "code",
   "execution_count": 37,
   "metadata": {},
   "outputs": [],
   "source": [
    "# img = cv2.imread(\"/home/ojasvi/Desktop/anaconda_task/Flipkart_round2/ar.jpeg\")"
   ]
  },
  {
   "cell_type": "code",
   "execution_count": 21,
   "metadata": {},
   "outputs": [],
   "source": [
    "# if img is None:\n",
    "#     print ('Error opening image!')"
   ]
  },
  {
   "cell_type": "code",
   "execution_count": 22,
   "metadata": {},
   "outputs": [],
   "source": [
    "# while (True):\n",
    "#     frame = img.copy()\n",
    "#     grey = cv2.cvtColor(frame,cv2.COLOR_BGR2GRAY)\n",
    "#     canny = cv2.Canny(grey,30,180)\n",
    "#     # Copy edges to the images that will display the results in BGR\n",
    "#     cdst = cv2.cvtColor(canny, cv2.COLOR_GRAY2BGR)\n",
    "#     cdstP = np.copy(cdst)\n",
    "#     lines = cv2.HoughLines(canny, 1, np.pi / 180, 150, None, 0, 0)\n",
    "    \n",
    "#     if lines is not None:\n",
    "#         for i in range(0, len(lines)):\n",
    "#             rho = lines[i][0][0]\n",
    "#             theta = lines[i][0][1]\n",
    "#             a = math.cos(theta)\n",
    "#             b = math.sin(theta)\n",
    "#             x0 = a * rho\n",
    "#             y0 = b * rho\n",
    "#             pt1 = (int(x0 + 1000*(-b)), int(y0 + 1000*(a)))\n",
    "#             pt2 = (int(x0 - 1000*(-b)), int(y0 - 1000*(a)))\n",
    "#             cv2.line(cdst, pt1, pt2, (0,0,255), 3, cv2.LINE_AA)\n",
    "    \n",
    "    \n",
    "#     linesP = cv2.HoughLinesP(canny, 1, np.pi / 180, 50, None, 50, 10)\n",
    "    \n",
    "#     if linesP is not None:\n",
    "#         for i in range(0, len(linesP)):\n",
    "#             l = linesP[i][0]\n",
    "#             cv2.line(cdstP, (l[0], l[1]), (l[2], l[3]), (0,0,255), 3, cv2.LINE_AA)\n",
    "    \n",
    "#     cv2.imshow(\"Detected Lines (in red) - Standard Hough Line Transform\", cdst)\n",
    "#     cv2.imshow(\"Detected Lines (in red) - Probabilistic Line Transform\", cdstP)\n",
    "    \n",
    "    \n",
    "    \n",
    "#     cv2.imshow('Original',frame)\n",
    "#     cv2.imshow('Canny', canny)\n",
    "    \n",
    "#     if cv2.waitKey(25) & 0xFF == ord('q'):\n",
    "#         break\n",
    "\n",
    "        \n",
    "# cv2.destroyAllWindows()"
   ]
  }
 ],
 "metadata": {
  "kernelspec": {
   "display_name": "Python 3",
   "language": "python",
   "name": "python3"
  },
  "language_info": {
   "codemirror_mode": {
    "name": "ipython",
    "version": 3
   },
   "file_extension": ".py",
   "mimetype": "text/x-python",
   "name": "python",
   "nbconvert_exporter": "python",
   "pygments_lexer": "ipython3",
   "version": "3.8.5"
  }
 },
 "nbformat": 4,
 "nbformat_minor": 4
}
